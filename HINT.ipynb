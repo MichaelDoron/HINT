{
 "cells": [
  {
   "cell_type": "code",
   "execution_count": 7,
   "metadata": {},
   "outputs": [
    {
     "name": "stdout",
     "output_type": "stream",
     "text": [
      "Creating data...\n"
     ]
    },
    {
     "ename": "NameError",
     "evalue": "global name 'input_param_limits' is not defined",
     "output_type": "error",
     "traceback": [
      "\u001b[0;31m---------------------------------------------------------------------------\u001b[0m",
      "\u001b[0;31mNameError\u001b[0m                                 Traceback (most recent call last)",
      "\u001b[0;32m<ipython-input-7-ea0c6c940fbd>\u001b[0m in \u001b[0;36m<module>\u001b[0;34m()\u001b[0m\n\u001b[1;32m     41\u001b[0m \u001b[0;32mif\u001b[0m \u001b[0;34m(\u001b[0m\u001b[0mcreate_data\u001b[0m\u001b[0;34m)\u001b[0m\u001b[0;34m:\u001b[0m\u001b[0;34m\u001b[0m\u001b[0m\n\u001b[1;32m     42\u001b[0m     \u001b[0;32mprint\u001b[0m\u001b[0;34m(\u001b[0m\u001b[0;34m'Creating data...'\u001b[0m\u001b[0;34m)\u001b[0m\u001b[0;34m\u001b[0m\u001b[0m\n\u001b[0;32m---> 43\u001b[0;31m     \u001b[0mutils\u001b[0m\u001b[0;34m.\u001b[0m\u001b[0mcreate_data\u001b[0m\u001b[0;34m(\u001b[0m\u001b[0mmodel\u001b[0m\u001b[0;34m,\u001b[0m \u001b[0mnumber_of_core_samples\u001b[0m\u001b[0;34m,\u001b[0m \u001b[0mstep_size\u001b[0m\u001b[0;34m,\u001b[0m \u001b[0mname\u001b[0m\u001b[0;34m,\u001b[0m \u001b[0moutput_path\u001b[0m\u001b[0;34m)\u001b[0m\u001b[0;34m\u001b[0m\u001b[0m\n\u001b[0m\u001b[1;32m     44\u001b[0m     \u001b[0;32mprint\u001b[0m\u001b[0;34m(\u001b[0m\u001b[0;34m'Created data!'\u001b[0m\u001b[0;34m)\u001b[0m\u001b[0;34m\u001b[0m\u001b[0m\n\u001b[1;32m     45\u001b[0m \u001b[0;32mif\u001b[0m \u001b[0;34m(\u001b[0m\u001b[0mrank_global\u001b[0m\u001b[0;34m)\u001b[0m\u001b[0;34m:\u001b[0m\u001b[0;34m\u001b[0m\u001b[0m\n",
      "\u001b[0;32m/Users/michaeldoron/Lab_local/Projects/automated_science/data_creation/refractored_data/minimal_code/utils.pyc\u001b[0m in \u001b[0;36mcreate_data\u001b[0;34m(model, number_of_core_samples, step_size, name, output_path)\u001b[0m\n\u001b[1;32m    261\u001b[0m \u001b[0;34m\u001b[0m\u001b[0m\n\u001b[1;32m    262\u001b[0m \u001b[0;32mdef\u001b[0m \u001b[0mcreate_data\u001b[0m\u001b[0;34m(\u001b[0m\u001b[0mmodel\u001b[0m\u001b[0;34m,\u001b[0m \u001b[0mnumber_of_core_samples\u001b[0m\u001b[0;34m,\u001b[0m \u001b[0mstep_size\u001b[0m\u001b[0;34m,\u001b[0m \u001b[0mname\u001b[0m\u001b[0;34m,\u001b[0m \u001b[0moutput_path\u001b[0m\u001b[0;34m)\u001b[0m\u001b[0;34m:\u001b[0m\u001b[0;34m\u001b[0m\u001b[0m\n\u001b[0;32m--> 263\u001b[0;31m   \u001b[0mmodel\u001b[0m\u001b[0;34m.\u001b[0m\u001b[0mset_ground_truth\u001b[0m\u001b[0;34m(\u001b[0m\u001b[0mnumber_of_core_samples\u001b[0m\u001b[0;34m,\u001b[0m \u001b[0mstep_size\u001b[0m\u001b[0;34m,\u001b[0m \u001b[0mname\u001b[0m\u001b[0;34m,\u001b[0m \u001b[0moutput_path\u001b[0m\u001b[0;34m)\u001b[0m\u001b[0;34m\u001b[0m\u001b[0m\n\u001b[0m\u001b[1;32m    264\u001b[0m   \u001b[0mfeature_vectors\u001b[0m\u001b[0;34m,\u001b[0m \u001b[0msupplemental_data\u001b[0m \u001b[0;34m=\u001b[0m \u001b[0mmodel\u001b[0m\u001b[0;34m.\u001b[0m\u001b[0mgenerate_feature_vectors\u001b[0m\u001b[0;34m(\u001b[0m\u001b[0mnumber_of_core_samples\u001b[0m\u001b[0;34m,\u001b[0m \u001b[0mstep_size\u001b[0m\u001b[0;34m)\u001b[0m\u001b[0;34m\u001b[0m\u001b[0m\n\u001b[1;32m    265\u001b[0m   \u001b[0moutputs\u001b[0m \u001b[0;34m=\u001b[0m \u001b[0mmodel\u001b[0m\u001b[0;34m.\u001b[0m\u001b[0msimulate_model\u001b[0m\u001b[0;34m(\u001b[0m\u001b[0mfeature_vectors\u001b[0m\u001b[0;34m,\u001b[0m \u001b[0msupplemental_data\u001b[0m\u001b[0;34m,\u001b[0m \u001b[0mnumber_of_core_samples\u001b[0m\u001b[0;34m,\u001b[0m \u001b[0mstep_size\u001b[0m\u001b[0;34m,\u001b[0m \u001b[0mname\u001b[0m\u001b[0;34m,\u001b[0m \u001b[0moutput_path\u001b[0m\u001b[0;34m)\u001b[0m\u001b[0;34m\u001b[0m\u001b[0m\n",
      "\u001b[0;32m/Users/michaeldoron/Lab_local/Projects/automated_science/data_creation/refractored_data/minimal_code/NMDA.pyc\u001b[0m in \u001b[0;36mset_ground_truth\u001b[0;34m(number_of_core_samples, step_size, name, output_path)\u001b[0m\n\u001b[1;32m    120\u001b[0m   \u001b[0msupplemental_data\u001b[0m \u001b[0;34m=\u001b[0m \u001b[0;34m[\u001b[0m\u001b[0;34m]\u001b[0m\u001b[0;34m\u001b[0m\u001b[0m\n\u001b[1;32m    121\u001b[0m   \u001b[0;32mfor\u001b[0m \u001b[0mmodel\u001b[0m \u001b[0;32min\u001b[0m \u001b[0mrange\u001b[0m\u001b[0;34m(\u001b[0m\u001b[0mnumber_of_models\u001b[0m\u001b[0;34m)\u001b[0m\u001b[0;34m:\u001b[0m\u001b[0;34m\u001b[0m\u001b[0m\n\u001b[0;32m--> 122\u001b[0;31m     \u001b[0mE_events_lists\u001b[0m\u001b[0;34m,\u001b[0m \u001b[0mI_events_lists\u001b[0m \u001b[0;34m=\u001b[0m \u001b[0mcreate_presynaptic_spike_trains\u001b[0m\u001b[0;34m(\u001b[0m\u001b[0minput_param_limits\u001b[0m\u001b[0;34m)\u001b[0m\u001b[0;34m\u001b[0m\u001b[0m\n\u001b[0m\u001b[1;32m    123\u001b[0m     \u001b[0;32mfor\u001b[0m \u001b[0mtrial\u001b[0m \u001b[0;32min\u001b[0m \u001b[0mrange\u001b[0m\u001b[0;34m(\u001b[0m\u001b[0mmax\u001b[0m\u001b[0;34m(\u001b[0m\u001b[0;36m1\u001b[0m\u001b[0;34m,\u001b[0m \u001b[0mint\u001b[0m\u001b[0;34m(\u001b[0m\u001b[0mnumber_of_center_samples\u001b[0m \u001b[0;34m/\u001b[0m \u001b[0mnumber_of_models\u001b[0m\u001b[0;34m)\u001b[0m\u001b[0;34m)\u001b[0m\u001b[0;34m)\u001b[0m\u001b[0;34m:\u001b[0m\u001b[0;34m\u001b[0m\u001b[0m\n\u001b[1;32m    124\u001b[0m       \u001b[0msupplemental_data\u001b[0m\u001b[0;34m.\u001b[0m\u001b[0mappend\u001b[0m\u001b[0;34m(\u001b[0m\u001b[0;34m[\u001b[0m\u001b[0mE_events_lists\u001b[0m\u001b[0;34m,\u001b[0m \u001b[0mI_events_lists\u001b[0m\u001b[0;34m]\u001b[0m\u001b[0;34m)\u001b[0m\u001b[0;34m\u001b[0m\u001b[0m\n",
      "\u001b[0;31mNameError\u001b[0m: global name 'input_param_limits' is not defined"
     ]
    }
   ],
   "source": [
    "%matplotlib inline\n",
    "\n",
    "import argparse\n",
    "import sys\n",
    "import pandas as pd\n",
    "import numpy as np\n",
    "import utils\n",
    "import time\n",
    "import hint\n",
    "\n",
    "from importlib import import_module\n",
    "\n",
    "''' \n",
    "example models: \n",
    "\n",
    "'Gaussian_10' - Global interaction baseline, based on Friedman, 2001, with 10 variables and 25 interactions\n",
    "'Gaussian_100' - Global interaction baseline, based on Friedman, 2001, with 100 variables and 1000 interactions\n",
    "'VIN_function'- Global interaction baseline, based on Hooker, 2004, with 10 variables and 11 interactions\n",
    "'Local' - Local interaction baseline, modification of Friedman, 2001 to create local interactions\n",
    "'BAP' - Reproduction of Jones et al, 2017: a biophysical model of a neuron soma with backpropagating action potential\n",
    "'NMDA' - Reproduction of Doron et al, 2017: a biophysical model of a neuron dendrite with excitation, inhibition, and time difference between the two\n",
    "'soma' - A biophysical model of cell soma, with 11 ion channel parameters\n",
    "'''\n",
    "\n",
    "name = 'NMDA'\n",
    "model_path = 'NMDA'\n",
    "model = import_module(model_path)\n",
    "number_of_core_samples = 2\n",
    "step_size = 0.1\n",
    "output_path = 'results'\n",
    "top_k_to_plot = 3 # number of parameter pairs to plot. Notice - number_of_core_samples needs to be at least 3!\n",
    "\n",
    "create_data = True # Creates new input-output samples from the model\n",
    "rank_global = True # ranks pairs for global accuracy measurement\n",
    "rank_local = False # ranks pairs for local accuracy measurement\n",
    "measure_global_accuracy = True # measures global accuracy (Won't work for non-global-baseline models)\n",
    "measure_local_accuracy = False # measures local accuracy (Won't work for non-local-baseline models)\n",
    "\n",
    "start = time.time()\n",
    "model = import_module(model_path)\n",
    "if (create_data):\n",
    "    print('Creating data...')\n",
    "    utils.create_data(model, number_of_core_samples, step_size, name, output_path)\n",
    "    print('Created data!')          \n",
    "if (rank_global):\n",
    "    print('Ranking parameter pairs...')\n",
    "    utils.rank_global(model, number_of_core_samples, step_size, name, output_path, top_k_to_plot)\n",
    "    print('Ranked parameter pairs!')\n",
    "if (rank_local):\n",
    "    print('Ranking individual samples...')    \n",
    "    print(utils.rank_local(model, number_of_core_samples, step_size, name, threshold, output_path, top_k_to_plot))\n",
    "    print('Ranked individual samples!')        \n",
    "if (measure_global_accuracy):\n",
    "    print('Measuring parameter pair ranking accuracy...')    \n",
    "    print('global accuracy is {}'.format(utils.measure_global_accuracy(model, number_of_core_samples, step_size, name, output_path)))\n",
    "    print('Measured parameter pair ranking accuracy!')        \n",
    "if (measure_local_accuracy):\n",
    "    print('Measuring individual samples ranking accuracy...')     \n",
    "    print(utils.measure_local_accuracy(model, number_of_core_samples, step_size, name, output_path))\n",
    "    print('Measured individual samples ranking accuracy!')         \n",
    "print('this took {} seconds'.format(time.time() - start))\n"
   ]
  },
  {
   "cell_type": "code",
   "execution_count": null,
   "metadata": {},
   "outputs": [],
   "source": []
  },
  {
   "cell_type": "code",
   "execution_count": null,
   "metadata": {},
   "outputs": [],
   "source": []
  }
 ],
 "metadata": {
  "kernelspec": {
   "display_name": "Python 2",
   "language": "python",
   "name": "python2"
  },
  "language_info": {
   "codemirror_mode": {
    "name": "ipython",
    "version": 2
   },
   "file_extension": ".py",
   "mimetype": "text/x-python",
   "name": "python",
   "nbconvert_exporter": "python",
   "pygments_lexer": "ipython2",
   "version": "2.7.16"
  }
 },
 "nbformat": 4,
 "nbformat_minor": 2
}
